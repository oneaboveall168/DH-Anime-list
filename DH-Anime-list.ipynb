{
 "cells": [
  {
   "cell_type": "markdown",
   "id": "b451d430",
   "metadata": {},
   "source": [
    "# Dataset Summary\n",
    "\n",
    "# Shape: \n",
    "The original dataset contains 6,668 rows and 33 columns.\n",
    "The new set contains 23750 rows and 34 columns.\n",
    "\n",
    "# Columns:\n",
    "Includes details like anime_id, title, title_english, title_japanese, genre, type, episodes, rating, score, studio, aired, and more.\n",
    "Features information about anime attributes (e.g., titles, genres, producers) and performance metrics (e.g., score, popularity, favorites).\n",
    "\n",
    "# Data Types:\n",
    "23 columns are of type object (e.g., textual data like titles, genres, and studios).\n",
    "6 columns are int64 (e.g., numerical data like members, favorites).\n",
    "4 columns are float64 (e.g., scores, duration in minutes).\n",
    "1 column is bool (e.g., airing status).\n",
    "\n",
    "# Missing Values:\n",
    "Columns with significant missing values:\n",
    "\n",
    "background (5,855 missing values),\n",
    "\n",
    "premiered (3,702 missing values),\n",
    "\n",
    "licensor (3,881 missing values).\n",
    "\n",
    "Other columns like title_english, title_synonyms, producer, and studio also contain some missing data.\n",
    "\n",
    "This dataset is rich in information and provides numerous opportunities for analysis. With attributes ranging from production details to user ratings, it can be utilized for exploring trends in the anime industry, identifying audience preferences, and uncovering factors influencing anime success.\n"
   ]
  },
  {
   "cell_type": "markdown",
   "id": "dc23f9d1",
   "metadata": {},
   "source": [
    "# Set up the notebook and connect the dataset"
   ]
  },
  {
   "cell_type": "markdown",
   "id": "8fb2cd41",
   "metadata": {},
   "source": [
    "The command “pip install pandas matplotlib seaborn openpyxl” is used in Python to install several libraries for data analysis and visualization, along with Excel file handling.This command equips Python with tools for handling a wide range of data processing, visualization, and file management tasks. Here’s what each library does:\n",
    "1）pandas: Used for data manipulation and analysis. 2）matplotlib: Helps in creating charts and graphs. 3）seaborn: Enhances matplotlib’s capabilities with more visually appealing and informative statistical graphics. 4）openpyxl: Allows Python to read and write Excel files."
   ]
  },
  {
   "cell_type": "code",
   "execution_count": 1,
   "id": "f968d1c9",
   "metadata": {},
   "outputs": [
    {
     "name": "stdout",
     "output_type": "stream",
     "text": [
      "Requirement already satisfied: pandas in /Users/natvonw/anaconda3/lib/python3.11/site-packages (2.0.3)\n",
      "Requirement already satisfied: matplotlib in /Users/natvonw/anaconda3/lib/python3.11/site-packages (3.7.2)\n",
      "Requirement already satisfied: seaborn in /Users/natvonw/anaconda3/lib/python3.11/site-packages (0.12.2)\n",
      "Requirement already satisfied: openpyxl in /Users/natvonw/anaconda3/lib/python3.11/site-packages (3.0.10)\n",
      "Requirement already satisfied: python-dateutil>=2.8.2 in /Users/natvonw/anaconda3/lib/python3.11/site-packages (from pandas) (2.8.2)\n",
      "Requirement already satisfied: pytz>=2020.1 in /Users/natvonw/anaconda3/lib/python3.11/site-packages (from pandas) (2023.3.post1)\n",
      "Requirement already satisfied: tzdata>=2022.1 in /Users/natvonw/anaconda3/lib/python3.11/site-packages (from pandas) (2023.3)\n",
      "Requirement already satisfied: numpy>=1.21.0 in /Users/natvonw/anaconda3/lib/python3.11/site-packages (from pandas) (1.24.3)\n",
      "Requirement already satisfied: contourpy>=1.0.1 in /Users/natvonw/anaconda3/lib/python3.11/site-packages (from matplotlib) (1.0.5)\n",
      "Requirement already satisfied: cycler>=0.10 in /Users/natvonw/anaconda3/lib/python3.11/site-packages (from matplotlib) (0.11.0)\n",
      "Requirement already satisfied: fonttools>=4.22.0 in /Users/natvonw/anaconda3/lib/python3.11/site-packages (from matplotlib) (4.25.0)\n",
      "Requirement already satisfied: kiwisolver>=1.0.1 in /Users/natvonw/anaconda3/lib/python3.11/site-packages (from matplotlib) (1.4.4)\n",
      "Requirement already satisfied: packaging>=20.0 in /Users/natvonw/anaconda3/lib/python3.11/site-packages (from matplotlib) (23.1)\n",
      "Requirement already satisfied: pillow>=6.2.0 in /Users/natvonw/anaconda3/lib/python3.11/site-packages (from matplotlib) (10.0.1)\n",
      "Requirement already satisfied: pyparsing<3.1,>=2.3.1 in /Users/natvonw/anaconda3/lib/python3.11/site-packages (from matplotlib) (3.0.9)\n",
      "Requirement already satisfied: et_xmlfile in /Users/natvonw/anaconda3/lib/python3.11/site-packages (from openpyxl) (1.1.0)\n",
      "Requirement already satisfied: six>=1.5 in /Users/natvonw/anaconda3/lib/python3.11/site-packages (from python-dateutil>=2.8.2->pandas) (1.16.0)\n",
      "Note: you may need to restart the kernel to use updated packages.\n"
     ]
    }
   ],
   "source": [
    "pip install pandas matplotlib seaborn openpyxl "
   ]
  },
  {
   "cell_type": "code",
   "execution_count": 2,
   "id": "00f296b8",
   "metadata": {},
   "outputs": [],
   "source": [
    "#It's particularly useful for data visualization within notebooks\n",
    "#It allows you to see the plots immediately and provides a more integrated and interactive workflow for data analysis\n",
    "%matplotlib inline"
   ]
  },
  {
   "cell_type": "code",
   "execution_count": null,
   "id": "46d901b3",
   "metadata": {},
   "outputs": [],
   "source": [
    "# Importing the necessary libraries for data handling and visualization\n",
    "import pandas as pd              # Pandas library for data manipulation\n",
    "import matplotlib.pyplot as plt  # Matplotlib's pyplot for creating static plots\n",
    "import seaborn as sns            # Seaborn library for making statistical graphics\n",
    "\n",
    "# URL for the raw CSV data\n",
    "# This URL points to the location of the CSV file we want to work with\n",
    "url = \"https://raw.githubusercontent.com/oneaboveall168/DH-Anime-list/refs/heads/main/animelistnew.csv\"\n",
    "\n",
    "# Load the dataset from the provided URL into a DataFrame\n",
    "# pd.read_csv() reads the CSV file from the URL and loads it into a pandas DataFrame\n",
    "df = pd.read_csv(url)"
   ]
  },
  {
   "cell_type": "markdown",
   "id": "5015b0f7",
   "metadata": {},
   "source": [
    "# 1. A look inside the data"
   ]
  },
  {
   "cell_type": "code",
   "execution_count": null,
   "id": "60f65ce9",
   "metadata": {},
   "outputs": [],
   "source": [
    "# Get the dimensions of the DataFrame\n",
    "# 'df.shape' returns a tuple containing the number of rows and columns in the DataFrame\n",
    "df.shape"
   ]
  },
  {
   "cell_type": "markdown",
   "id": "c49fdfd4",
   "metadata": {},
   "source": [
    "☝️The dataset contains information on 6668 words, with 33 different pieces of features recorded for each word."
   ]
  },
  {
   "cell_type": "code",
   "execution_count": null,
   "id": "eb1f1295",
   "metadata": {},
   "outputs": [],
   "source": [
    "# Get the number of records in the DataFrame\n",
    "len(df)"
   ]
  },
  {
   "cell_type": "code",
   "execution_count": null,
   "id": "46cc349c",
   "metadata": {},
   "outputs": [],
   "source": [
    "#What do the last few entries in the dataset look like?\n",
    "# Display the first few rows of the DataFrame to get a quick overview of the data\n",
    "df.head(5)"
   ]
  },
  {
   "cell_type": "code",
   "execution_count": null,
   "id": "8e1f88fd",
   "metadata": {},
   "outputs": [],
   "source": [
    "#What do the last few entries in the dataset look like?\n",
    "# View the last 5 rows\n",
    "df.tail(5)"
   ]
  },
  {
   "cell_type": "code",
   "execution_count": null,
   "id": "822eafcf",
   "metadata": {},
   "outputs": [],
   "source": [
    "# Display : Show only one column\n",
    "df['type']"
   ]
  },
  {
   "cell_type": "markdown",
   "id": "076866a1",
   "metadata": {},
   "source": [
    "# 2. Describe the data with the .describe() function"
   ]
  },
  {
   "cell_type": "code",
   "execution_count": null,
   "id": "5f5adf8d",
   "metadata": {},
   "outputs": [],
   "source": [
    "# Use Pandas to describe the \"type\" column\n",
    "df['type'].describe()"
   ]
  },
  {
   "cell_type": "code",
   "execution_count": null,
   "id": "5169e655",
   "metadata": {},
   "outputs": [],
   "source": [
    "# Use Pandas to describe the \"source\" column\n",
    "df['source'].describe()"
   ]
  },
  {
   "cell_type": "code",
   "execution_count": null,
   "id": "9d7745d8",
   "metadata": {},
   "outputs": [],
   "source": [
    "# Use Pandas to describe the \"rating\" column\n",
    "df['rating'].describe()"
   ]
  },
  {
   "cell_type": "code",
   "execution_count": null,
   "id": "c9d35673",
   "metadata": {},
   "outputs": [],
   "source": [
    "# Show the data types\n",
    "df.dtypes"
   ]
  },
  {
   "cell_type": "markdown",
   "id": "08936954",
   "metadata": {},
   "source": [
    "# Descriptive statistics"
   ]
  },
  {
   "cell_type": "code",
   "execution_count": null,
   "id": "0c2ea540",
   "metadata": {},
   "outputs": [],
   "source": [
    "# 1. Top 10 Popular Anime by Favorites\n",
    "popular_anime = df.nlargest(10, 'favorites')[['title', 'favorites']]\n",
    "plt.figure(figsize=(10, 6))\n",
    "sns.barplot(data=popular_anime, x='favorites', y='title', palette='viridis')\n",
    "plt.title('Top 10 Anime by Favorites')\n",
    "plt.xlabel('Favorites')\n",
    "plt.ylabel('Anime Title')\n",
    "plt.show()"
   ]
  },
  {
   "cell_type": "code",
   "execution_count": null,
   "id": "515ada66",
   "metadata": {},
   "outputs": [],
   "source": [
    "# 2. Score Distribution: Analyze how scores are distributed across the dataset\n",
    "plt.figure(figsize=(10, 6))\n",
    "sns.histplot(df['score'], bins=20, kde=True, color='blue')\n",
    "plt.title('Score Distribution')\n",
    "plt.xlabel('Score')\n",
    "plt.ylabel('Frequency')\n",
    "plt.show()"
   ]
  },
  {
   "cell_type": "code",
   "execution_count": null,
   "id": "f6915475",
   "metadata": {},
   "outputs": [],
   "source": [
    "#3. Genres Word Cloud: Visualize the frequency of genres in an engaging way\n",
    "# Import the necessary module\n",
    "from wordcloud import WordCloud\n",
    "\n",
    "genres_combined = ' '.join(df['genre'].dropna().str.replace(', ', ' ').tolist())\n",
    "wordcloud = WordCloud(width=800, height=400, background_color='white').generate(genres_combined)\n",
    "plt.figure(figsize=(10, 6))\n",
    "plt.imshow(wordcloud, interpolation='bilinear')\n",
    "plt.axis('off')\n",
    "plt.title('Word Cloud of Genres')\n",
    "plt.show()\n"
   ]
  },
  {
   "cell_type": "code",
   "execution_count": null,
   "id": "a936b8bf",
   "metadata": {},
   "outputs": [],
   "source": [
    "# 4. Anime Over Time: Show the number of anime titles released over the years\n",
    "yearly_counts = df.groupby('aired_from_year').size()\n",
    "plt.figure(figsize=(10, 6))\n",
    "yearly_counts.plot(kind='bar', color='teal')\n",
    "plt.title('Anime Released Over Time')\n",
    "plt.xlabel('Year')\n",
    "plt.ylabel('Number of Anime')\n",
    "plt.show()\n"
   ]
  },
  {
   "cell_type": "code",
   "execution_count": null,
   "id": "5def5ba1",
   "metadata": {},
   "outputs": [],
   "source": [
    "# 5. Top 10 Producers' Contribution\n",
    "producer_counts = df['producer'].value_counts().head(10)\n",
    "plt.figure(figsize=(10, 6))\n",
    "producer_counts.plot(kind='bar', color='orange')\n",
    "plt.title('Top 10 Producers by Anime Count')\n",
    "plt.xlabel('Producer')\n",
    "plt.ylabel('Number of Anime')\n",
    "plt.xticks(rotation=45)\n",
    "plt.show()"
   ]
  },
  {
   "cell_type": "code",
   "execution_count": null,
   "id": "e40404ca",
   "metadata": {},
   "outputs": [],
   "source": [
    "# 6. Top 10 Studios by Popularity\n",
    "studio_popularity = df.groupby('studio')['popularity'].mean().nsmallest(10)\n",
    "plt.figure(figsize=(10, 6))\n",
    "studio_popularity.plot(kind='barh', color='purple')\n",
    "plt.title('Top 10 Studios by Popularity')\n",
    "plt.xlabel('Average Popularity Rank')\n",
    "plt.ylabel('Studio')\n",
    "plt.gca().invert_xaxis()\n",
    "plt.show()\n"
   ]
  },
  {
   "cell_type": "code",
   "execution_count": null,
   "id": "9f26e99a",
   "metadata": {},
   "outputs": [],
   "source": [
    "# 7. Episodes vs. Score\n",
    "plt.figure(figsize=(10, 6))\n",
    "sns.scatterplot(data=df, x='episodes', y='score', alpha=0.6, color='green')\n",
    "plt.title('Episodes vs. Score')\n",
    "plt.xlabel('Episodes')\n",
    "plt.ylabel('Score')\n",
    "plt.show()\n"
   ]
  },
  {
   "cell_type": "code",
   "execution_count": null,
   "id": "73c3c62e",
   "metadata": {
    "scrolled": true
   },
   "outputs": [],
   "source": [
    "# 8. Rating Analysis\n",
    "rating_counts = df['rating'].value_counts()\n",
    "plt.figure(figsize=(10, 6))\n",
    "rating_counts.plot(kind='pie', autopct='%1.1f%%', startangle=100, colors=sns.color_palette('pastel'))\n",
    "plt.title('Rating Distribution')\n",
    "plt.ylabel('')\n",
    "plt.show()\n"
   ]
  },
  {
   "cell_type": "code",
   "execution_count": null,
   "id": "653c6310",
   "metadata": {},
   "outputs": [],
   "source": [
    "# 9. Airing Status Distribution\n",
    "status_counts = df['status'].value_counts()\n",
    "plt.figure(figsize=(10, 6))\n",
    "sns.barplot(x=status_counts.index, y=status_counts.values, palette='magma')\n",
    "plt.title('Airing Status Distribution')\n",
    "plt.xlabel('Status')\n",
    "plt.ylabel('Count')\n",
    "plt.show()"
   ]
  },
  {
   "cell_type": "code",
   "execution_count": null,
   "id": "185fc1ec",
   "metadata": {},
   "outputs": [],
   "source": [
    "# 10. Source Popularity:  Compare how different sources (e.g., manga, novel) influence popularity.\n",
    "plt.figure(figsize=(10, 6))\n",
    "sns.boxplot(data=df, x='source', y='popularity', palette='cool')\n",
    "plt.title('Source vs. Popularity')\n",
    "plt.xlabel('Source')\n",
    "plt.ylabel('Popularity')\n",
    "plt.xticks(rotation=45)\n",
    "plt.show()"
   ]
  },
  {
   "cell_type": "code",
   "execution_count": null,
   "id": "fe42571b",
   "metadata": {
    "scrolled": true
   },
   "outputs": [],
   "source": [
    "#11. Average Score by Genre\n",
    "# Extract and explode genres\n",
    "df['genre_split'] = df['genre'].str.split(', ')\n",
    "genre_scores = df.explode('genre_split').groupby('genre_split')['score'].mean().sort_values(ascending=False)\n",
    "\n",
    "# Plot\n",
    "plt.figure(figsize=(10, 6))\n",
    "genre_scores.plot(kind='bar', color='skyblue')\n",
    "plt.title('Average Score by Genre')\n",
    "plt.xlabel('Genre')\n",
    "plt.ylabel('Average Score')\n",
    "plt.xticks(rotation=45, ha='right')\n",
    "plt.show()\n"
   ]
  },
  {
   "cell_type": "code",
   "execution_count": null,
   "id": "e89fd667",
   "metadata": {},
   "outputs": [],
   "source": [
    "#12. Top 20 Anime by Number of Members\n",
    "top_members = df.nlargest(20, 'members')[['title', 'members']]\n",
    "\n",
    "# Plot\n",
    "plt.figure(figsize=(10, 6))\n",
    "sns.barplot(y='title', x='members', data=top_members, palette='viridis')\n",
    "plt.title('Top 20 Anime by Members')\n",
    "plt.xlabel('Number of Members')\n",
    "plt.ylabel('Anime Title')\n",
    "plt.show()"
   ]
  },
  {
   "cell_type": "code",
   "execution_count": null,
   "id": "979200df",
   "metadata": {},
   "outputs": [],
   "source": [
    "#13. Correlation Heatmap\n",
    "# Select numerical columns\n",
    "corr_data = df[['score', 'rank', 'popularity', 'members', 'favorites']].corr()\n",
    "\n",
    "# Plot heatmap\n",
    "plt.figure(figsize=(8, 6))\n",
    "sns.heatmap(corr_data, annot=True, cmap='coolwarm', fmt='.2f')\n",
    "plt.title('Correlation Heatmap')\n",
    "plt.show()\n"
   ]
  },
  {
   "cell_type": "code",
   "execution_count": null,
   "id": "fa195420",
   "metadata": {},
   "outputs": [],
   "source": [
    "#14. Anime Release Trend by Decade\n",
    "df['decade'] = (df['aired_from_year'] // 10) * 10\n",
    "release_trend = df.groupby('decade').size()\n",
    "\n",
    "# Plot\n",
    "plt.figure(figsize=(10, 6))\n",
    "release_trend.plot(kind='line', marker='o', color='green')\n",
    "plt.title('Anime Release Trend by Decade')\n",
    "plt.xlabel('Decade')\n",
    "plt.ylabel('Number of Anime')\n",
    "plt.grid(True)\n",
    "plt.show()\n"
   ]
  },
  {
   "cell_type": "code",
   "execution_count": null,
   "id": "67d82114",
   "metadata": {},
   "outputs": [],
   "source": [
    "#15. Top Genres by Popularity\n",
    "genre_popularity = df.explode('genre_split').groupby('genre_split')['popularity'].sum().sort_values(ascending=True)\n",
    "\n",
    "# Plot\n",
    "plt.figure(figsize=(10, 8))\n",
    "genre_popularity.plot(kind='barh', color='purple')\n",
    "plt.title('Top Genres by Popularity')\n",
    "plt.xlabel('Popularity Score')\n",
    "plt.ylabel('Genre')\n",
    "plt.show()\n"
   ]
  },
  {
   "cell_type": "code",
   "execution_count": null,
   "id": "2a51c902",
   "metadata": {},
   "outputs": [],
   "source": [
    "#16. Studio Contribution Over Time\n",
    "top_studios = df['studio'].value_counts().head(5).index\n",
    "studio_trend = df[df['studio'].isin(top_studios)].groupby(['studio', 'decade']).size().unstack()\n",
    "\n",
    "# Plot\n",
    "studio_trend.plot(kind='bar', stacked=True, figsize=(12, 6), colormap='viridis')\n",
    "plt.title('Studio Contribution Over Time')\n",
    "plt.xlabel('Decade')\n",
    "plt.ylabel('Number of Anime')\n",
    "plt.legend(title='Studio', bbox_to_anchor=(1.05, 1), loc='upper left')\n",
    "plt.tight_layout()\n",
    "plt.show()\n"
   ]
  },
  {
   "cell_type": "code",
   "execution_count": null,
   "id": "045f5560",
   "metadata": {},
   "outputs": [],
   "source": [
    "#17. Anime Duration vs. Score\n",
    "plt.figure(figsize=(10, 6))\n",
    "sns.regplot(x='duration_min', y='score', data=df, scatter_kws={'alpha':0.6}, line_kws={'color':'red'})\n",
    "plt.title('Anime Duration vs. Score')\n",
    "plt.xlabel('Duration (minutes)')\n",
    "plt.ylabel('Score')\n",
    "plt.show()\n"
   ]
  },
  {
   "cell_type": "code",
   "execution_count": null,
   "id": "5a6ad1a6",
   "metadata": {},
   "outputs": [],
   "source": [
    "#18. Favorite Anime Over Time\n",
    "favorites_trend = df.groupby('aired_from_year')['favorites'].sum()\n",
    "\n",
    "# Plot\n",
    "plt.figure(figsize=(10, 6))\n",
    "favorites_trend.plot(kind='line', marker='o', color='orange')\n",
    "plt.title('Favorites Over Time')\n",
    "plt.xlabel('Year')\n",
    "plt.ylabel('Number of Favorites')\n",
    "plt.grid(True)\n",
    "plt.show()\n"
   ]
  },
  {
   "cell_type": "code",
   "execution_count": null,
   "id": "fcfee01c",
   "metadata": {},
   "outputs": [],
   "source": [
    "#19. Most Common Airing Days\n",
    "df['broadcast_day'] = df['broadcast'].str.split(' ').str[0]\n",
    "airing_days = df['broadcast_day'].value_counts()\n",
    "\n",
    "# Plot\n",
    "plt.figure(figsize=(10, 6))\n",
    "airing_days.plot(kind='bar', color='teal')\n",
    "plt.title('Most Common Airing Days')\n",
    "plt.xlabel('Day of the Week')\n",
    "plt.ylabel('Number of Anime')\n",
    "plt.xticks(rotation=45)\n",
    "plt.show()\n"
   ]
  },
  {
   "cell_type": "code",
   "execution_count": null,
   "id": "1dea9fa8",
   "metadata": {},
   "outputs": [],
   "source": [
    "#20. Anime Score Distribution by Status\n",
    "plt.figure(figsize=(10, 6))\n",
    "sns.boxplot(x='status', y='score', data=df, palette='pastel')\n",
    "plt.title('Score Distribution by Airing Status')\n",
    "plt.xlabel('Airing Status')\n",
    "plt.ylabel('Score')\n",
    "plt.xticks(rotation=45)\n",
    "plt.show()\n"
   ]
  },
  {
   "cell_type": "code",
   "execution_count": null,
   "id": "2cb99c92",
   "metadata": {},
   "outputs": [],
   "source": [
    "#21. Anime production trends over time\n",
    "\n",
    "import matplotlib.pyplot as plt\n",
    "\n",
    "# Grouping by year and counting the number of anime produced\n",
    "production_trends = df['aired_from_year'].dropna().astype(int).value_counts().sort_index()\n",
    "\n",
    "# Plotting the production trends over time\n",
    "plt.figure(figsize=(12, 6))\n",
    "plt.plot(production_trends.index, production_trends.values, marker='o', linestyle='-', color='blue')\n",
    "plt.title('Anime Production Trends Over Time', fontsize=16)\n",
    "plt.xlabel('Year', fontsize=12)\n",
    "plt.ylabel('Number of Anime Produced', fontsize=12)\n",
    "plt.grid(axis='y', linestyle='--', alpha=0.7)\n",
    "plt.axvline(2015, color='red', linestyle='--', label='Peak Year: 2015')\n",
    "plt.legend()\n",
    "plt.show()\n"
   ]
  },
  {
   "cell_type": "code",
   "execution_count": null,
   "id": "bb560c68",
   "metadata": {},
   "outputs": [],
   "source": [
    "#22.Studios and Producers Collaboration Analysis\n",
    "\n",
    "import networkx as nx\n",
    "import matplotlib.pyplot as plt\n",
    "\n",
    "# Create a bipartite graph for studios and producers\n",
    "G = nx.Graph()\n",
    "\n",
    "# Loop through rows to establish producer-studio relationships\n",
    "for _, row in df.dropna(subset=['producer', 'studio']).iterrows():\n",
    "    producers = row['producer'].split(', ')\n",
    "    studios = row['studio'].split(', ')\n",
    "    for producer in producers:\n",
    "        for studio in studios:\n",
    "            G.add_edge(producer, studio)\n",
    "\n",
    "# Filter the graph for the most frequent studios (e.g., Sunrise and Toei Animation)\n",
    "top_studios = ['Sunrise', 'Toei Animation']\n",
    "filtered_edges = [(u, v) for u, v in G.edges if v in top_studios]\n",
    "filtered_graph = nx.Graph(filtered_edges)\n",
    "\n",
    "# Plot the bipartite graph\n",
    "plt.figure(figsize=(12, 8))\n",
    "pos = nx.spring_layout(filtered_graph, seed=42)\n",
    "nx.draw_networkx_nodes(filtered_graph, pos, node_size=300, node_color='skyblue')\n",
    "nx.draw_networkx_edges(filtered_graph, pos, width=1, alpha=0.6, edge_color='gray')\n",
    "nx.draw_networkx_labels(filtered_graph, pos, font_size=10, font_family=\"sans-serif\")\n",
    "\n",
    "plt.title('Producer-Studio Collaboration Network')\n",
    "plt.show()\n"
   ]
  },
  {
   "cell_type": "markdown",
   "id": "53fcd086",
   "metadata": {},
   "source": [
    "# Linguistic Features Analysis"
   ]
  },
  {
   "cell_type": "code",
   "execution_count": null,
   "id": "fa0bd8f9",
   "metadata": {},
   "outputs": [],
   "source": [
    "#1. Average Length of Titles in Different Languages\n",
    "import matplotlib.pyplot as plt\n",
    "\n",
    "df['title_length'] = df['title'].str.len()\n",
    "df['title_english_length'] = df['title_english'].str.len()\n",
    "df['title_japanese_length'] = df['title_japanese'].str.len()\n",
    "\n",
    "avg_lengths = df[['title_length', 'title_english_length', 'title_japanese_length']].mean()\n",
    "\n",
    "plt.bar(avg_lengths.index, avg_lengths.values, color=['blue', 'orange', 'green'])\n",
    "plt.title('Average Length of Titles in Different Languages')\n",
    "plt.ylabel('Average Length (characters)')\n",
    "plt.show()\n",
    "\n"
   ]
  },
  {
   "cell_type": "code",
   "execution_count": null,
   "id": "a158d402",
   "metadata": {},
   "outputs": [],
   "source": [
    "#2. Frequency of Common Words in Titles\n",
    "from collections import Counter\n",
    "from wordcloud import STOPWORDS\n",
    "import pandas as pd\n",
    "\n",
    "all_titles = ' '.join(df['title'].dropna())\n",
    "tokens = [word for word in all_titles.split() if word.lower() not in STOPWORDS]\n",
    "word_counts = Counter(tokens).most_common(20)\n",
    "\n",
    "words, counts = zip(*word_counts)\n",
    "plt.bar(words, counts, color='purple')\n",
    "plt.title('Most Common Words in Titles')\n",
    "plt.xticks(rotation=90)\n",
    "plt.show()\n"
   ]
  },
  {
   "cell_type": "code",
   "execution_count": null,
   "id": "384c8b55",
   "metadata": {},
   "outputs": [],
   "source": [
    "#3. Text Length Distribution\n",
    "plt.hist(df['title_length'].dropna(), bins=20, alpha=0.7, label='Original Titles')\n",
    "plt.hist(df['title_english_length'].dropna(), bins=20, alpha=0.7, label='English Titles')\n",
    "plt.hist(df['title_japanese_length'].dropna(), bins=20, alpha=0.7, label='Japanese Titles')\n",
    "plt.title('Text Length Distribution Across Languages')\n",
    "plt.xlabel('Length (characters)')\n",
    "plt.ylabel('Frequency')\n",
    "plt.legend()\n",
    "plt.show()\n"
   ]
  },
  {
   "cell_type": "code",
   "execution_count": null,
   "id": "6649c096",
   "metadata": {},
   "outputs": [],
   "source": [
    "#4. Top Keywords by Genre\n",
    "from sklearn.feature_extraction.text import CountVectorizer\n",
    "import seaborn as sns\n",
    "\n",
    "vectorizer = CountVectorizer(stop_words='english')\n",
    "genre_matrix = vectorizer.fit_transform(df['genre'].dropna())\n",
    "genre_keywords = pd.DataFrame(genre_matrix.toarray(), columns=vectorizer.get_feature_names_out())\n",
    "top_keywords = genre_keywords.sum().sort_values(ascending=False).head(10)\n",
    "\n",
    "sns.barplot(x=top_keywords.values, y=top_keywords.index, palette='cool')\n",
    "plt.title('Top Keywords by Genre')\n",
    "plt.xlabel('Frequency')\n",
    "plt.ylabel('Keywords')\n",
    "plt.show()\n"
   ]
  },
  {
   "cell_type": "code",
   "execution_count": null,
   "id": "13b66c1e",
   "metadata": {},
   "outputs": [],
   "source": [
    "#5. Topic Modeling\n",
    "from sklearn.decomposition import LatentDirichletAllocation\n",
    "\n",
    "lda = LatentDirichletAllocation(n_components=5, random_state=42)\n",
    "lda_topics = lda.fit_transform(genre_matrix)\n",
    "topics = ['Topic ' + str(i) for i in range(lda.components_.shape[0])]\n",
    "\n",
    "for i, topic in enumerate(topics):\n",
    "    words = [vectorizer.get_feature_names_out()[index] for index in lda.components_[i].argsort()[-10:]]\n",
    "    print(f'{topic}: {\", \".join(words)}')\n"
   ]
  },
  {
   "cell_type": "code",
   "execution_count": null,
   "id": "d1d96601",
   "metadata": {},
   "outputs": [],
   "source": [
    "#6. Count genres in English and Japanese titles\n",
    "english_genres = df[df['title_english'].notna()]['genre'].str.split(', ').explode().value_counts()\n",
    "japanese_genres = df[df['title_japanese'].notna()]['genre'].str.split(', ').explode().value_counts()\n",
    "\n",
    "# Create comparison bar chart\n",
    "genre_comparison = pd.DataFrame({'English': english_genres, 'Japanese': japanese_genres}).fillna(0)\n",
    "\n",
    "genre_comparison.plot(kind='bar', figsize=(12, 6), color=['blue', 'orange'])\n",
    "plt.title('Comparison of Genre Frequency: English vs Japanese Titles')\n",
    "plt.ylabel('Count')\n",
    "plt.xlabel('Genre')\n",
    "plt.xticks(rotation=45)\n",
    "plt.legend(title='Language')\n",
    "plt.show()\n"
   ]
  },
  {
   "cell_type": "markdown",
   "id": "076f1cd4",
   "metadata": {},
   "source": [
    "# Social Network Analysis"
   ]
  },
  {
   "cell_type": "code",
   "execution_count": null,
   "id": "8a3e286c",
   "metadata": {},
   "outputs": [],
   "source": [
    "import networkx as nx\n",
    "\n",
    "# Group genres by anime title or ID\n",
    "grouped_genres = df.groupby('anime_id')['genre'].apply(list)\n",
    "\n",
    "# Create the graph\n",
    "G = nx.Graph()\n",
    "\n",
    "for genre_list in grouped_genres:\n",
    "    for i, genre1 in enumerate(genre_list):\n",
    "        for genre2 in genre_list[i + 1:]:\n",
    "            if G.has_edge(genre1, genre2):\n",
    "                G[genre1][genre2]['weight'] += 1\n",
    "            else:\n",
    "                G.add_edge(genre1, genre2, weight=1)\n",
    "\n",
    "# Check the graph\n",
    "print(f\"Number of nodes: {G.number_of_nodes()}\")\n",
    "print(f\"Number of edges: {G.number_of_edges()}\")"
   ]
  },
  {
   "cell_type": "code",
   "execution_count": null,
   "id": "60831e11",
   "metadata": {},
   "outputs": [],
   "source": [
    "#1.Producer-Studio Collaboration Network\n",
    "import networkx as nx\n",
    "import matplotlib.pyplot as plt\n",
    "\n",
    "# Group by anime ID to ensure proper relationships between producers and studios\n",
    "grouped_producers_studios = df.groupby('anime_id').apply(\n",
    "    lambda x: (x['producer'].iloc[0], x['studio'].iloc[0])\n",
    ")\n",
    "\n",
    "# Create the graph\n",
    "G = nx.Graph()\n",
    "for producer, studio in grouped_producers_studios:\n",
    "    G.add_edge(producer, studio)\n",
    "\n",
    "# Visualize the graph\n",
    "plt.figure(figsize=(10, 8))\n",
    "nx.draw(G, with_labels=True, node_size=30, font_size=8)\n",
    "plt.title('Producer-Studio Collaboration Network')\n",
    "plt.show()\n"
   ]
  },
  {
   "cell_type": "code",
   "execution_count": null,
   "id": "e18c8f99",
   "metadata": {},
   "outputs": [],
   "source": [
    "#2.Producer-Studio Collaboration\n",
    "\n",
    "import networkx as nx\n",
    "import matplotlib.pyplot as plt\n",
    "\n",
    "# Create a bipartite graph for producer-studio collaboration\n",
    "G = nx.Graph()\n",
    "\n",
    "# Process each row to add producers and studios as nodes and edges\n",
    "for _, row in df.dropna(subset=['producer', 'studio']).iterrows():\n",
    "    producers = row['producer'].split(', ')\n",
    "    studios = row['studio'].split(', ')\n",
    "    for producer in producers:\n",
    "        for studio in studios:\n",
    "            G.add_edge(producer, studio)\n",
    "\n",
    "# Generate positions for nodes\n",
    "pos = nx.spring_layout(G, k=0.3)\n",
    "\n",
    "# Plot the graph\n",
    "plt.figure(figsize=(12, 10))\n",
    "nx.draw_networkx_nodes(G, pos, node_color='lightgreen', node_size=100)\n",
    "nx.draw_networkx_edges(G, pos, alpha=0.5)\n",
    "nx.draw_networkx_labels(G, pos, font_size=8)\n",
    "\n",
    "plt.title('Producer-Studio Collaboration Network')\n",
    "plt.show()\n"
   ]
  },
  {
   "cell_type": "code",
   "execution_count": null,
   "id": "4c0a15ea",
   "metadata": {},
   "outputs": [],
   "source": [
    "#3.Producer-Genre Associations\n",
    "import pandas as pd\n",
    "import matplotlib.pyplot as plt\n",
    "\n",
    "# Explode genres for many-to-one mapping\n",
    "df['genre_split'] = df['genre'].str.split(', ')\n",
    "producer_genre = df.explode('genre_split').groupby(['producer', 'genre_split']).size().reset_index(name='count')\n",
    "\n",
    "# Find top 5 producers by genre count\n",
    "top_producers = producer_genre.groupby('producer')['count'].sum().sort_values(ascending=False).head(5).index\n",
    "filtered_data = producer_genre[producer_genre['producer'].isin(top_producers)]\n",
    "\n",
    "# Plot results\n",
    "plt.figure(figsize=(10, 6))\n",
    "for producer in top_producers:\n",
    "    subset = filtered_data[filtered_data['producer'] == producer]\n",
    "    plt.bar(subset['genre_split'], subset['count'], label=producer)\n",
    "\n",
    "plt.title('Top Producers and Their Genre Associations')\n",
    "plt.ylabel('Count')\n",
    "plt.xlabel('Genre')\n",
    "plt.xticks(rotation=45)\n",
    "plt.legend(title='Producers')\n",
    "plt.tight_layout()\n",
    "plt.show()\n"
   ]
  },
  {
   "cell_type": "code",
   "execution_count": null,
   "id": "3b23595d",
   "metadata": {},
   "outputs": [],
   "source": []
  }
 ],
 "metadata": {
  "kernelspec": {
   "display_name": "Python 3 (ipykernel)",
   "language": "python",
   "name": "python3"
  },
  "language_info": {
   "codemirror_mode": {
    "name": "ipython",
    "version": 3
   },
   "file_extension": ".py",
   "mimetype": "text/x-python",
   "name": "python",
   "nbconvert_exporter": "python",
   "pygments_lexer": "ipython3",
   "version": "3.11.5"
  }
 },
 "nbformat": 4,
 "nbformat_minor": 5
}
